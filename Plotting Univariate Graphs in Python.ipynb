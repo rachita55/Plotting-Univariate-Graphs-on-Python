{
 "cells": [
  {
   "cell_type": "markdown",
   "metadata": {},
   "source": [
    "# Objective :\n",
    "To create a function called **Graph** which will help us perform an initial exploratory study of univariate analysis of any dataset or file.\n",
    "\n",
    "We will be plotting histograms, barplots and boxplots to understand our dataset !"
   ]
  },
  {
   "cell_type": "markdown",
   "metadata": {},
   "source": [
    "#### Below are 3 ideas with output ( includes 2 improvisations )"
   ]
  },
  {
   "cell_type": "markdown",
   "metadata": {},
   "source": [
    "#### Idea #1 :\n",
    "Creating function that will categorize numerical and categorical variable from the input dataset and plot graph for all variables present in that dataset\n",
    "\n",
    "Input from user : path i.e directory, File name"
   ]
  },
  {
   "cell_type": "code",
   "execution_count": 3,
   "metadata": {},
   "outputs": [],
   "source": [
    "def graph():\n",
    "    \n",
    "    import os\n",
    "    import pandas as pd\n",
    "    import numpy as np\n",
    "    import matplotlib.pyplot as plt\n",
    "    import seaborn as sns\n",
    "    sns.set()\n",
    "    sns.set_color_codes()\n",
    "    \n",
    "    # Allow user to enter directory to fetch the file\n",
    "    dir = input(\"Enter the path : \")     # e.g : C:\\\\Users\\\\lenovo\\\\Desktop\\\\Praxis\\\\Practice_doc (without \" \")\n",
    "    os.chdir(dir)\n",
    "    \n",
    "    # Allow user to enter the name of the file\n",
    "    # user can call the function multiple times for different data\n",
    "    file = input(\"Enter the file name : \")   # e.g cars.csv (without \" \")\n",
    "    df = pd.read_csv(file) \n",
    "        \n",
    "    for i in df:\n",
    "        # Check whether the variable is categorical or numerical \n",
    "        if (np.dtype(df[i]) != 'object' and len(np.unique(df[i]>10))):  \n",
    "            # If the datatype is not object then consider it as a numerical variable (i.e., float, int)\n",
    "            # For plotting a histogram\n",
    "            plt.figure(figsize=(10,8))             # setting a size for the plot\n",
    "            sns.distplot(df[i], hist=True, kde=False, color = \"b\")\n",
    "            plt.ylabel(\"Number of Cars\", fontsize=11)\n",
    "            plt.savefig(str(i)+\"_histogram.png\")   # to save the plot as an image  \n",
    "            plt.close()\n",
    "\n",
    "            # For plotting boxplot\n",
    "            df.boxplot(column=i, grid=False, notch=False, vert=False, figsize=(10,8))\n",
    "            plt.savefig(str(i)+\"_boxplot.png\")\n",
    "            plt.close()\n",
    "\n",
    "        else:\n",
    "            # For plotting a bar graph\n",
    "            sns.countplot(df[i], palette=\"Blues_d\")\n",
    "            #sns.barplot(data=df, orient=\"v\", palette=\"Blues_d\")\n",
    "            plt.savefig(str(i)+\"_bar_graph.png\")\n",
    "            plt.close()\n",
    "    \n",
    "    # Print the statistics i.e means,min,max of the data\n",
    "    Describe = df.describe()   \n",
    "    Describe.to_csv(\"Summary Statistics.csv\")\n",
    "    print(\"Please check the folder now !\")"
   ]
  },
  {
   "cell_type": "code",
   "execution_count": 4,
   "metadata": {},
   "outputs": [
    {
     "name": "stdout",
     "output_type": "stream",
     "text": [
      "Enter the path : /users/rachita/Desktop/Python/Graph Function/\n",
      "Enter the file name : cars.csv\n",
      "Please check the folder now !\n"
     ]
    }
   ],
   "source": [
    "graph()"
   ]
  },
  {
   "cell_type": "markdown",
   "metadata": {},
   "source": [
    "#### Idea 2 : Improvisation #1\n",
    "If a user does not wish to plot all the graphs, we will provide user with such an option !\n",
    "\n",
    "To do so, we shall ask user to enter specific column name they are interested in. The function will then plot a graph  for only the interested variables. In case the user wishes to see the graph for all variables, they can enter \"All\" the input window.\n",
    "\n",
    "Input from user : directory, file name, required column names"
   ]
  },
  {
   "cell_type": "code",
   "execution_count": 5,
   "metadata": {},
   "outputs": [],
   "source": [
    "def graph():\n",
    "    \n",
    "    import os\n",
    "    import pandas as pd\n",
    "    import numpy as np\n",
    "    import matplotlib.pyplot as plt\n",
    "    import seaborn as sns\n",
    "    sns.set()\n",
    "    sns.set_color_codes()\n",
    "    \n",
    "    dir = input(\"Enter the path : \")  \n",
    "    os.chdir(dir)\n",
    "    \n",
    "    file = input(\"Enter the file name : \")   \n",
    "    df = pd.read_csv(file) \n",
    "    \n",
    "    # Allow user to enter specific column name \n",
    "    print(\"Print all columns if column name not specified.\")\n",
    "    col = input(\"Enter column names separated by comma : \")\n",
    "    col1 = list(col.split(\",\"))\n",
    "    if col1 == [\"All\"]:\n",
    "        col = []\n",
    "        for i in df:\n",
    "            col.append(i)\n",
    "    else:\n",
    "        col = col1\n",
    "        \n",
    "    for i in col:\n",
    "        if (np.dtype(df[i]) != 'object' and len(np.unique(df[i]>10))):\n",
    "            # For plotting a histogram\n",
    "            plt.figure(figsize=(10,8))             \n",
    "            sns.distplot(df[i], hist=True, kde=False, color = \"b\")\n",
    "            plt.ylabel(\"Number of Cars\", fontsize=11)\n",
    "            plt.savefig(str(i)+\"_histogram.png\")\n",
    "            plt.close()\n",
    "\n",
    "            # For plotting boxplot\n",
    "            df.boxplot(column=i, grid=False, notch=False, vert=False, figsize=(10,8))\n",
    "            plt.savefig(str(i)+\"_boxplot.png\")\n",
    "            plt.close()\n",
    "\n",
    "        else:\n",
    "            # For plotting a bar graph\n",
    "            sns.countplot(df[i], palette=\"Blues_d\")\n",
    "            plt.savefig(str(i)+\"_bar_graph.png\")\n",
    "            plt.close()\n",
    "            \n",
    "    Describe = df.describe()   \n",
    "    Describe.to_csv(\"Summary Statistics.csv\")\n",
    "    \n",
    "    print(\"Please check the folder now !\")\n",
    "    "
   ]
  },
  {
   "cell_type": "code",
   "execution_count": 6,
   "metadata": {},
   "outputs": [
    {
     "name": "stdout",
     "output_type": "stream",
     "text": [
      "Enter the path : /users/rachita/Desktop/Python/Graph Function/\n",
      "Enter the file name : cars.csv\n",
      "Print all columns if column name not specified.\n",
      "Enter column names separated by comma : All\n",
      "Please check the folder now !\n"
     ]
    }
   ],
   "source": [
    "graph()"
   ]
  },
  {
   "cell_type": "markdown",
   "metadata": {},
   "source": [
    "#### Idea 3 : Improvisation #2 \n",
    "\n",
    "Problem : User does not want graphs of all variable in main folder\n",
    "            - if there are many variable, all the graphs will be jumbled and basically be a big mess !\n",
    "            - if the user uses the Graph function for muliple datasets, again multiple graphs for multiple \n",
    "                variables, a bigger mess !\n",
    "\n",
    "To resolve this, we will ask user to enter folder name with every dataset/csv file which will allow user to create different folders for different files ! "
   ]
  },
  {
   "cell_type": "code",
   "execution_count": 7,
   "metadata": {},
   "outputs": [],
   "source": [
    "def graph():\n",
    "    \n",
    "    import os\n",
    "    import pandas as pd\n",
    "    import numpy as np\n",
    "    import matplotlib.pyplot as plt\n",
    "    import seaborn as sns\n",
    "    sns.set()\n",
    "    sns.set_color_codes()\n",
    "    \n",
    "    dir = input(\"Enter the path : \")\n",
    "    os.chdir(dir)\n",
    "    \n",
    "    file = input(\"Enter the file name : \")\n",
    "    df = pd.read_csv(file) \n",
    "    \n",
    "    # Allow user to enter folder name \n",
    "    folder1 = input(\"Enter folder name : \")\n",
    "    os.mkdir(folder1)\n",
    "    folder =  dir + '/'+ '/' + folder1\n",
    "    os.chdir(folder)\n",
    "    \n",
    "    print(\"Print all columns if column name not specified. \")\n",
    "    col = input(\"Enter column names separated by comma : \")\n",
    "    col1 = list(col.split(\",\"))\n",
    "    if col1 == [\"All\"]:\n",
    "        col = []\n",
    "        for i in df:\n",
    "            col.append(i)\n",
    "    else:\n",
    "        col = col1\n",
    "        \n",
    "    for i in col:\n",
    "        if (np.dtype(df[i]) != 'object' and len(np.unique(df[i]>10))):\n",
    "            # For plotting a histogram\n",
    "            plt.figure(figsize=(10,8))             \n",
    "            sns.distplot(df[i], hist=True, kde=False, color = \"b\")\n",
    "            plt.ylabel(\"Number of Cars\", fontsize=11)\n",
    "            plt.savefig(str(i)+\"_histogram.png\")\n",
    "            plt.close()\n",
    "\n",
    "            # For plotting boxplot\n",
    "            df.boxplot(column=i, grid=False, notch=False, vert=False, figsize=(10,8))\n",
    "            plt.savefig(str(i)+\"_boxplot.png\")\n",
    "            plt.close()\n",
    "\n",
    "        else:\n",
    "            # For plotting a bar graph\n",
    "            sns.countplot(df[i], palette=\"Blues_d\")\n",
    "            plt.savefig(str(i)+\"_bar_graph.png\")\n",
    "            plt.close()\n",
    "            \n",
    "    Describe = df.describe()   \n",
    "    Describe.to_csv(\"Summary Statistics.csv\")\n",
    "    \n",
    "    print(\"Please check the folder now !\")"
   ]
  },
  {
   "cell_type": "code",
   "execution_count": 8,
   "metadata": {},
   "outputs": [
    {
     "name": "stdout",
     "output_type": "stream",
     "text": [
      "Enter the path : /users/rachita/Desktop/Python/Graph Function/\n",
      "Enter the file name : cars.csv\n",
      "Enter folder name : Cars graph function\n",
      "Print all columns if column name not specified. \n",
      "Enter column names separated by comma : MPG,Acceleration,Origin\n",
      "Please check the folder now !\n"
     ]
    }
   ],
   "source": [
    "graph()"
   ]
  }
 ],
 "metadata": {
  "kernelspec": {
   "display_name": "Python 3",
   "language": "python",
   "name": "python3"
  },
  "language_info": {
   "codemirror_mode": {
    "name": "ipython",
    "version": 3
   },
   "file_extension": ".py",
   "mimetype": "text/x-python",
   "name": "python",
   "nbconvert_exporter": "python",
   "pygments_lexer": "ipython3",
   "version": "3.7.4"
  }
 },
 "nbformat": 4,
 "nbformat_minor": 2
}
